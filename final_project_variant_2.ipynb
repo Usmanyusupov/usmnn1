{
 "cells": [
  {
   "cell_type": "markdown",
   "metadata": {},
   "source": [
    "# Проект: вариант 2\n",
    "### Задание 1. A/B–тестирование"
   ]
  },
  {
   "cell_type": "markdown",
   "metadata": {},
   "source": [
    "1.1 Условие\n",
    "- Одной из основных задач аналитика в нашей команде является корректное проведение экспериментов. Для этого мы применяем метод A/B–тестирования. В ходе тестирования одной гипотезы целевой группе была предложена новая механика оплаты услуг на сайте, у контрольной группы оставалась базовая механика. В качестве задания Вам необходимо проанализировать итоги эксперимента и сделать вывод, стоит ли запускать новую механику оплаты на всех пользователей."
   ]
  },
  {
   "cell_type": "code",
   "execution_count": 1,
   "metadata": {},
   "outputs": [],
   "source": [
    "import pandas as pd \n",
    "import numpy as np\n",
    "import os \n",
    "import matplotlib.pyplot as plt \n",
    "import seaborn as sns "
   ]
  },
  {
   "cell_type": "code",
   "execution_count": 2,
   "metadata": {},
   "outputs": [],
   "source": [
    "import warnings\n",
    "warnings.filterwarnings(\"ignore\", category=DeprecationWarning) "
   ]
  },
  {
   "cell_type": "code",
   "execution_count": 3,
   "metadata": {},
   "outputs": [],
   "source": [
    "# функция на случай если будут появляться ошибки, чтобы их убирать\n",
    "def warn(*args, **kwargs):\n",
    "    pass\n",
    "import warnings\n",
    "warnings.warn = warn"
   ]
  },
  {
   "cell_type": "code",
   "execution_count": 4,
   "metadata": {},
   "outputs": [],
   "source": [
    "sns.set(rc={'figure.figsize': (16, 6)}, style='whitegrid')  # настройка графиков"
   ]
  },
  {
   "cell_type": "code",
   "execution_count": 5,
   "metadata": {},
   "outputs": [],
   "source": [
    "pd.set_option('display.float_format', lambda x: '%.2f' % x)  # преобразовывает экспоненциальные формат в норм формат"
   ]
  },
  {
   "cell_type": "markdown",
   "metadata": {},
   "source": [
    "1.2 Входные данные \n",
    "- groups.csv - файл с информацией о принадлежности пользователя к контрольной или экспериментальной группе (А – контроль, B целевая группа) \n",
    "- groups_add.csv - дополнительный файл с пользователями, который вам прислали спустя 2 дня после передачи данных\n",
    "- active_studs.csv - файл с информацией о пользователях, которые зашли на платформу в дни проведения эксперимента. \n",
    "- checks.csv - файл с информацией об оплатах пользователей в дни проведения эксперимента. "
   ]
  },
  {
   "cell_type": "markdown",
   "metadata": {},
   "source": [
    "### План\n",
    "\n",
    "1. **Сначала сделаем небольшой препроцессинг:**\n",
    "    - прочитаем файлы;\n",
    "    - Посмотрим на данные;\n",
    "2. **Далее сформулируем гипотезы, исходя из общей задачи:**\n",
    "    - Сформулируем предположения, которые будем тестировать\n",
    "    - Создадим метрики CR, ARPU, ARPPU\n",
    "    - Построим графики\n",
    "3. **Тестируем гипотезы:**\n",
    "     - Выбираем гипотезу\n",
    "     - Выбираем подходящий тест\n",
    "     - Тестируем\n",
    "4. **Подводим итоги:**\n",
    "    - Сформулировать выводы и суммаризировать всё что было"
   ]
  },
  {
   "cell_type": "code",
   "execution_count": 6,
   "metadata": {},
   "outputs": [],
   "source": [
    "# прочитаем файлы и посмотрим какие уникальные значения содержатся, также надо найти файлы, которые имеют связи между\n",
    "# чтобы их соединить и провести расчеты метрик \n",
    "\n",
    "groups = pd.read_csv(os.getcwd() + '/groups.csv', sep=';')\n",
    "groups_add = pd.read_csv(os.getcwd() + '/group_add.csv')\n",
    "active_studs = pd.read_csv(os.getcwd() + '/active_studs.csv')\n",
    "checks = pd.read_csv(os.getcwd() + '/checks.csv', sep=';')"
   ]
  },
  {
   "cell_type": "code",
   "execution_count": 7,
   "metadata": {},
   "outputs": [
    {
     "data": {
      "text/plain": [
       "id      int64\n",
       "grp    object\n",
       "dtype: object"
      ]
     },
     "execution_count": 7,
     "metadata": {},
     "output_type": "execute_result"
    }
   ],
   "source": [
    "groups.dtypes"
   ]
  },
  {
   "cell_type": "code",
   "execution_count": 8,
   "metadata": {},
   "outputs": [
    {
     "name": "stdout",
     "output_type": "stream",
     "text": [
      "          grp\n",
      "count   74484\n",
      "unique      2\n",
      "top         B\n",
      "freq    59813\n",
      "уникальные id: 74484\n"
     ]
    }
   ],
   "source": [
    "print(groups.describe(include='object'))  # описание типа object\n",
    "print(f'уникальные id:', {groups.id.nunique()})"
   ]
  },
  {
   "cell_type": "code",
   "execution_count": 9,
   "metadata": {
    "scrolled": false
   },
   "outputs": [
    {
     "data": {
      "text/html": [
       "<div>\n",
       "<style scoped>\n",
       "    .dataframe tbody tr th:only-of-type {\n",
       "        vertical-align: middle;\n",
       "    }\n",
       "\n",
       "    .dataframe tbody tr th {\n",
       "        vertical-align: top;\n",
       "    }\n",
       "\n",
       "    .dataframe thead th {\n",
       "        text-align: right;\n",
       "    }\n",
       "</style>\n",
       "<table border=\"1\" class=\"dataframe\">\n",
       "  <thead>\n",
       "    <tr style=\"text-align: right;\">\n",
       "      <th></th>\n",
       "      <th>id</th>\n",
       "    </tr>\n",
       "  </thead>\n",
       "  <tbody>\n",
       "    <tr>\n",
       "      <th>count</th>\n",
       "      <td>74484.00</td>\n",
       "    </tr>\n",
       "    <tr>\n",
       "      <th>mean</th>\n",
       "      <td>2133751.55</td>\n",
       "    </tr>\n",
       "    <tr>\n",
       "      <th>std</th>\n",
       "      <td>1531422.90</td>\n",
       "    </tr>\n",
       "    <tr>\n",
       "      <th>min</th>\n",
       "      <td>1489.00</td>\n",
       "    </tr>\n",
       "    <tr>\n",
       "      <th>25%</th>\n",
       "      <td>917498.00</td>\n",
       "    </tr>\n",
       "    <tr>\n",
       "      <th>50%</th>\n",
       "      <td>1667190.50</td>\n",
       "    </tr>\n",
       "    <tr>\n",
       "      <th>75%</th>\n",
       "      <td>3322954.75</td>\n",
       "    </tr>\n",
       "    <tr>\n",
       "      <th>max</th>\n",
       "      <td>5694419.00</td>\n",
       "    </tr>\n",
       "  </tbody>\n",
       "</table>\n",
       "</div>"
      ],
      "text/plain": [
       "              id\n",
       "count   74484.00\n",
       "mean  2133751.55\n",
       "std   1531422.90\n",
       "min      1489.00\n",
       "25%    917498.00\n",
       "50%   1667190.50\n",
       "75%   3322954.75\n",
       "max   5694419.00"
      ]
     },
     "execution_count": 9,
     "metadata": {},
     "output_type": "execute_result"
    }
   ],
   "source": [
    "groups.describe()  # краткое описание датасета "
   ]
  },
  {
   "cell_type": "code",
   "execution_count": 10,
   "metadata": {},
   "outputs": [
    {
     "data": {
      "text/html": [
       "<div>\n",
       "<style scoped>\n",
       "    .dataframe tbody tr th:only-of-type {\n",
       "        vertical-align: middle;\n",
       "    }\n",
       "\n",
       "    .dataframe tbody tr th {\n",
       "        vertical-align: top;\n",
       "    }\n",
       "\n",
       "    .dataframe thead th {\n",
       "        text-align: right;\n",
       "    }\n",
       "</style>\n",
       "<table border=\"1\" class=\"dataframe\">\n",
       "  <thead>\n",
       "    <tr style=\"text-align: right;\">\n",
       "      <th></th>\n",
       "      <th>id</th>\n",
       "      <th>grp</th>\n",
       "    </tr>\n",
       "  </thead>\n",
       "  <tbody>\n",
       "    <tr>\n",
       "      <th>0</th>\n",
       "      <td>1489</td>\n",
       "      <td>B</td>\n",
       "    </tr>\n",
       "    <tr>\n",
       "      <th>1</th>\n",
       "      <td>1627</td>\n",
       "      <td>A</td>\n",
       "    </tr>\n",
       "  </tbody>\n",
       "</table>\n",
       "</div>"
      ],
      "text/plain": [
       "     id grp\n",
       "0  1489   B\n",
       "1  1627   A"
      ]
     },
     "execution_count": 10,
     "metadata": {},
     "output_type": "execute_result"
    }
   ],
   "source": [
    "groups.head(2)"
   ]
  },
  {
   "cell_type": "code",
   "execution_count": 11,
   "metadata": {
    "scrolled": true
   },
   "outputs": [
    {
     "data": {
      "text/plain": [
       "id      int64\n",
       "grp    object\n",
       "dtype: object"
      ]
     },
     "execution_count": 11,
     "metadata": {},
     "output_type": "execute_result"
    }
   ],
   "source": [
    "groups_add.dtypes"
   ]
  },
  {
   "cell_type": "code",
   "execution_count": 12,
   "metadata": {
    "scrolled": true
   },
   "outputs": [
    {
     "name": "stdout",
     "output_type": "stream",
     "text": [
      "       grp\n",
      "count   92\n",
      "unique   2\n",
      "top      B\n",
      "freq    70\n",
      "уникальные id: 92\n"
     ]
    }
   ],
   "source": [
    "print(groups_add.describe(include='object'))  # описание типа object\n",
    "print(f'уникальные id: {groups_add.id.nunique()}')"
   ]
  },
  {
   "cell_type": "code",
   "execution_count": 13,
   "metadata": {},
   "outputs": [
    {
     "data": {
      "text/html": [
       "<div>\n",
       "<style scoped>\n",
       "    .dataframe tbody tr th:only-of-type {\n",
       "        vertical-align: middle;\n",
       "    }\n",
       "\n",
       "    .dataframe tbody tr th {\n",
       "        vertical-align: top;\n",
       "    }\n",
       "\n",
       "    .dataframe thead th {\n",
       "        text-align: right;\n",
       "    }\n",
       "</style>\n",
       "<table border=\"1\" class=\"dataframe\">\n",
       "  <thead>\n",
       "    <tr style=\"text-align: right;\">\n",
       "      <th></th>\n",
       "      <th>id</th>\n",
       "      <th>grp</th>\n",
       "    </tr>\n",
       "  </thead>\n",
       "  <tbody>\n",
       "    <tr>\n",
       "      <th>0</th>\n",
       "      <td>5694584</td>\n",
       "      <td>B</td>\n",
       "    </tr>\n",
       "    <tr>\n",
       "      <th>1</th>\n",
       "      <td>5694830</td>\n",
       "      <td>B</td>\n",
       "    </tr>\n",
       "  </tbody>\n",
       "</table>\n",
       "</div>"
      ],
      "text/plain": [
       "        id grp\n",
       "0  5694584   B\n",
       "1  5694830   B"
      ]
     },
     "execution_count": 13,
     "metadata": {},
     "output_type": "execute_result"
    }
   ],
   "source": [
    "groups_add.head(2)"
   ]
  },
  {
   "cell_type": "code",
   "execution_count": 14,
   "metadata": {},
   "outputs": [
    {
     "data": {
      "text/html": [
       "<div>\n",
       "<style scoped>\n",
       "    .dataframe tbody tr th:only-of-type {\n",
       "        vertical-align: middle;\n",
       "    }\n",
       "\n",
       "    .dataframe tbody tr th {\n",
       "        vertical-align: top;\n",
       "    }\n",
       "\n",
       "    .dataframe thead th {\n",
       "        text-align: right;\n",
       "    }\n",
       "</style>\n",
       "<table border=\"1\" class=\"dataframe\">\n",
       "  <thead>\n",
       "    <tr style=\"text-align: right;\">\n",
       "      <th></th>\n",
       "      <th>id</th>\n",
       "      <th>grp</th>\n",
       "    </tr>\n",
       "  </thead>\n",
       "  <tbody>\n",
       "  </tbody>\n",
       "</table>\n",
       "</div>"
      ],
      "text/plain": [
       "Empty DataFrame\n",
       "Columns: [id, grp]\n",
       "Index: []"
      ]
     },
     "execution_count": 14,
     "metadata": {},
     "output_type": "execute_result"
    }
   ],
   "source": [
    "# имеются ли id из добавочного файла в файле group\n",
    "ids = groups_add.id\n",
    "groups.query('id in @ids')"
   ]
  },
  {
   "cell_type": "code",
   "execution_count": 15,
   "metadata": {},
   "outputs": [
    {
     "data": {
      "text/html": [
       "<div>\n",
       "<style scoped>\n",
       "    .dataframe tbody tr th:only-of-type {\n",
       "        vertical-align: middle;\n",
       "    }\n",
       "\n",
       "    .dataframe tbody tr th {\n",
       "        vertical-align: top;\n",
       "    }\n",
       "\n",
       "    .dataframe thead th {\n",
       "        text-align: right;\n",
       "    }\n",
       "</style>\n",
       "<table border=\"1\" class=\"dataframe\">\n",
       "  <thead>\n",
       "    <tr style=\"text-align: right;\">\n",
       "      <th></th>\n",
       "      <th>id</th>\n",
       "      <th>grp</th>\n",
       "    </tr>\n",
       "  </thead>\n",
       "  <tbody>\n",
       "  </tbody>\n",
       "</table>\n",
       "</div>"
      ],
      "text/plain": [
       "Empty DataFrame\n",
       "Columns: [id, grp]\n",
       "Index: []"
      ]
     },
     "execution_count": 15,
     "metadata": {},
     "output_type": "execute_result"
    }
   ],
   "source": [
    "# кросс-чекни в обратном порядке \n",
    "idsgroup = groups.id\n",
    "groups_add.query('id in @idsgroup')"
   ]
  },
  {
   "cell_type": "code",
   "execution_count": 16,
   "metadata": {},
   "outputs": [
    {
     "name": "stdout",
     "output_type": "stream",
     "text": [
      "the ids not in groups & groups_add: 74484\n",
      "the ids not in groups_add & groups: 92\n"
     ]
    }
   ],
   "source": [
    "# удостоверимся что id не повторяются в датасетах\n",
    "print(f'the ids not in groups & groups_add: {groups.query('id not in @ids').shape[0]}')\n",
    "print(f'the ids not in groups_add & groups: {groups_add.query('id not in @idsgroup').shape[0]}')"
   ]
  },
  {
   "cell_type": "code",
   "execution_count": 17,
   "metadata": {
    "scrolled": true
   },
   "outputs": [
    {
     "data": {
      "text/html": [
       "<div>\n",
       "<style scoped>\n",
       "    .dataframe tbody tr th:only-of-type {\n",
       "        vertical-align: middle;\n",
       "    }\n",
       "\n",
       "    .dataframe tbody tr th {\n",
       "        vertical-align: top;\n",
       "    }\n",
       "\n",
       "    .dataframe thead th {\n",
       "        text-align: right;\n",
       "    }\n",
       "</style>\n",
       "<table border=\"1\" class=\"dataframe\">\n",
       "  <thead>\n",
       "    <tr style=\"text-align: right;\">\n",
       "      <th></th>\n",
       "      <th>student_id</th>\n",
       "    </tr>\n",
       "  </thead>\n",
       "  <tbody>\n",
       "    <tr>\n",
       "      <th>0</th>\n",
       "      <td>581585</td>\n",
       "    </tr>\n",
       "    <tr>\n",
       "      <th>1</th>\n",
       "      <td>5723133</td>\n",
       "    </tr>\n",
       "  </tbody>\n",
       "</table>\n",
       "</div>"
      ],
      "text/plain": [
       "   student_id\n",
       "0      581585\n",
       "1     5723133"
      ]
     },
     "execution_count": 17,
     "metadata": {},
     "output_type": "execute_result"
    }
   ],
   "source": [
    "active_studs.head(2)"
   ]
  },
  {
   "cell_type": "code",
   "execution_count": 18,
   "metadata": {},
   "outputs": [
    {
     "data": {
      "text/plain": [
       "student_id    int64\n",
       "dtype: object"
      ]
     },
     "execution_count": 18,
     "metadata": {},
     "output_type": "execute_result"
    }
   ],
   "source": [
    "active_studs.dtypes"
   ]
  },
  {
   "cell_type": "code",
   "execution_count": 19,
   "metadata": {},
   "outputs": [
    {
     "name": "stdout",
     "output_type": "stream",
     "text": [
      "unique values: student_id    8341\n",
      "dtype: int64\n",
      "       student_id\n",
      "count     8341.00\n",
      "mean   2448546.69\n",
      "std    1564978.36\n",
      "min       1627.00\n",
      "25%    1118405.00\n",
      "50%    2094192.00\n",
      "75%    3638877.00\n",
      "max    5951797.00\n"
     ]
    }
   ],
   "source": [
    "print(f'unique values: {active_studs.nunique()}')\n",
    "print(active_studs.describe(include='int64'))\n"
   ]
  },
  {
   "cell_type": "code",
   "execution_count": 20,
   "metadata": {},
   "outputs": [
    {
     "data": {
      "text/html": [
       "<div>\n",
       "<style scoped>\n",
       "    .dataframe tbody tr th:only-of-type {\n",
       "        vertical-align: middle;\n",
       "    }\n",
       "\n",
       "    .dataframe tbody tr th {\n",
       "        vertical-align: top;\n",
       "    }\n",
       "\n",
       "    .dataframe thead th {\n",
       "        text-align: right;\n",
       "    }\n",
       "</style>\n",
       "<table border=\"1\" class=\"dataframe\">\n",
       "  <thead>\n",
       "    <tr style=\"text-align: right;\">\n",
       "      <th></th>\n",
       "      <th>student_id</th>\n",
       "      <th>rev</th>\n",
       "    </tr>\n",
       "  </thead>\n",
       "  <tbody>\n",
       "    <tr>\n",
       "      <th>0</th>\n",
       "      <td>1627</td>\n",
       "      <td>990.00</td>\n",
       "    </tr>\n",
       "    <tr>\n",
       "      <th>1</th>\n",
       "      <td>3185</td>\n",
       "      <td>690.00</td>\n",
       "    </tr>\n",
       "  </tbody>\n",
       "</table>\n",
       "</div>"
      ],
      "text/plain": [
       "   student_id    rev\n",
       "0        1627 990.00\n",
       "1        3185 690.00"
      ]
     },
     "execution_count": 20,
     "metadata": {},
     "output_type": "execute_result"
    }
   ],
   "source": [
    "checks.head(2)"
   ]
  },
  {
   "cell_type": "code",
   "execution_count": 21,
   "metadata": {},
   "outputs": [
    {
     "data": {
      "text/plain": [
       "student_id      int64\n",
       "rev           float64\n",
       "dtype: object"
      ]
     },
     "execution_count": 21,
     "metadata": {},
     "output_type": "execute_result"
    }
   ],
   "source": [
    "checks.dtypes"
   ]
  },
  {
   "cell_type": "code",
   "execution_count": 22,
   "metadata": {
    "scrolled": false
   },
   "outputs": [
    {
     "name": "stdout",
     "output_type": "stream",
     "text": [
      "unique student_id values: 541\n",
      "       student_id\n",
      "count      541.00\n",
      "mean   2514771.83\n",
      "std    1726838.92\n",
      "min       1627.00\n",
      "25%     987129.00\n",
      "50%    2526021.00\n",
      "75%    3993249.00\n",
      "max    5740903.00\n"
     ]
    }
   ],
   "source": [
    "print(f'unique student_id values: {checks.student_id.nunique()}')\n",
    "print(checks.describe(include='int64'))"
   ]
  },
  {
   "cell_type": "code",
   "execution_count": 23,
   "metadata": {},
   "outputs": [
    {
     "name": "stdout",
     "output_type": "stream",
     "text": [
      "the ids not in active_studs into checks: 7949\n",
      "the ids not in checks into active_studs: 149\n"
     ]
    }
   ],
   "source": [
    "# удостоверимся что id не повторяются в датасетах\n",
    "print(f'the ids not in active_studs into checks: {active_studs.query('student_id not in @checks.student_id').shape[0]}')\n",
    "print(f'the ids not in checks into active_studs: {checks.query('student_id not in @active_studs.student_id').shape[0]}')"
   ]
  },
  {
   "cell_type": "code",
   "execution_count": 24,
   "metadata": {},
   "outputs": [
    {
     "name": "stdout",
     "output_type": "stream",
     "text": [
      "количество нулевых значении в groups: id     0\n",
      "grp    0\n",
      "dtype: int64\n",
      "количество нулевых значении в groups_add: id     0\n",
      "grp    0\n",
      "dtype: int64\n",
      "количество нулевых значении в active_studs: student_id    0\n",
      "dtype: int64\n",
      "количество нулевых значении в checks: student_id    0\n",
      "rev           0\n",
      "dtype: int64\n"
     ]
    }
   ],
   "source": [
    "# посмотрим имеются ли нулевые значения в датасетах \n",
    "print(f'количество нулевых значении в groups: {groups.isna().sum()}')\n",
    "print(f'количество нулевых значении в groups_add: {groups_add.isna().sum()}')\n",
    "print(f'количество нулевых значении в active_studs: {active_studs.isna().sum()}')\n",
    "print(f'количество нулевых значении в checks: {checks.isna().sum()}')"
   ]
  },
  {
   "cell_type": "code",
   "execution_count": 25,
   "metadata": {},
   "outputs": [
    {
     "name": "stdout",
     "output_type": "stream",
     "text": [
      "пользователи в groups_add & active_studs: 13\n",
      "пользователи в active_studs & groups_add: 13\n"
     ]
    }
   ],
   "source": [
    "# имеются ли student_id из добавочного файла в файле groups_add и наоборот\n",
    "print(f'пользователи в groups_add & active_studs: {groups_add.query('id in @active_studs.student_id').shape[0]}')\n",
    "print(f'пользователи в active_studs & groups_add: {active_studs.query('student_id in @groups_add.id').shape[0]}')"
   ]
  },
  {
   "cell_type": "code",
   "execution_count": 26,
   "metadata": {
    "scrolled": true
   },
   "outputs": [
    {
     "name": "stdout",
     "output_type": "stream",
     "text": [
      "пользователи в groups_add & checks: 1\n",
      "пользователи в checks & groups_add: 1\n"
     ]
    }
   ],
   "source": [
    "# имеются ли student_id из добавочного файла в файле groups_add и наоборот\n",
    "print(f'пользователи в groups_add & checks: {groups_add.query('id in @checks.student_id').shape[0]}')\n",
    "print(f'пользователи в checks & groups_add: {checks.query('student_id in @groups_add.id').shape[0]}')"
   ]
  },
  {
   "cell_type": "code",
   "execution_count": 27,
   "metadata": {},
   "outputs": [
    {
     "name": "stdout",
     "output_type": "stream",
     "text": [
      "пользователи нет в groups_add & checks: 91\n",
      "пользователи нет в checks & groups_add: 540\n"
     ]
    }
   ],
   "source": [
    "print(f'пользователи нет в groups_add & checks: {groups_add.query('id not in @checks.student_id').shape[0]}')\n",
    "print(f'пользователи нет в checks & groups_add: {checks.query('student_id not in @groups_add.id').shape[0]}')"
   ]
  },
  {
   "cell_type": "code",
   "execution_count": 28,
   "metadata": {
    "scrolled": true
   },
   "outputs": [
    {
     "name": "stdout",
     "output_type": "stream",
     "text": [
      "пользователи нет в groups_add & active_studs: 79\n",
      "пользователи нет в active_studs & groups_add: 8328\n"
     ]
    }
   ],
   "source": [
    "print(f'пользователи нет в groups_add & active_studs: {groups_add.query('id not in @active_studs.student_id').shape[0]}')\n",
    "print(f'пользователи нет в active_studs & groups_add: {active_studs.query('student_id not in @groups_add.id').shape[0]}')"
   ]
  },
  {
   "cell_type": "code",
   "execution_count": 29,
   "metadata": {},
   "outputs": [],
   "source": [
    "# в итоге можем объединять файл groups с groups_add и проверим количество строк \n",
    "# далее объединенный файл проверим по такой же логике проверки что и выше с файлами checks & active_studs"
   ]
  },
  {
   "cell_type": "code",
   "execution_count": 30,
   "metadata": {},
   "outputs": [],
   "source": [
    "concat_df_groups_groupsadd = pd.concat([groups, groups_add])"
   ]
  },
  {
   "cell_type": "code",
   "execution_count": 31,
   "metadata": {},
   "outputs": [
    {
     "data": {
      "text/html": [
       "<div>\n",
       "<style scoped>\n",
       "    .dataframe tbody tr th:only-of-type {\n",
       "        vertical-align: middle;\n",
       "    }\n",
       "\n",
       "    .dataframe tbody tr th {\n",
       "        vertical-align: top;\n",
       "    }\n",
       "\n",
       "    .dataframe thead th {\n",
       "        text-align: right;\n",
       "    }\n",
       "</style>\n",
       "<table border=\"1\" class=\"dataframe\">\n",
       "  <thead>\n",
       "    <tr style=\"text-align: right;\">\n",
       "      <th></th>\n",
       "      <th>id</th>\n",
       "      <th>grp</th>\n",
       "    </tr>\n",
       "  </thead>\n",
       "  <tbody>\n",
       "    <tr>\n",
       "      <th>0</th>\n",
       "      <td>1489</td>\n",
       "      <td>B</td>\n",
       "    </tr>\n",
       "    <tr>\n",
       "      <th>1</th>\n",
       "      <td>1627</td>\n",
       "      <td>A</td>\n",
       "    </tr>\n",
       "  </tbody>\n",
       "</table>\n",
       "</div>"
      ],
      "text/plain": [
       "     id grp\n",
       "0  1489   B\n",
       "1  1627   A"
      ]
     },
     "execution_count": 31,
     "metadata": {},
     "output_type": "execute_result"
    }
   ],
   "source": [
    "concat_df_groups_groupsadd.head(2)"
   ]
  },
  {
   "cell_type": "code",
   "execution_count": 32,
   "metadata": {},
   "outputs": [
    {
     "data": {
      "text/plain": [
       "0"
      ]
     },
     "execution_count": 32,
     "metadata": {},
     "output_type": "execute_result"
    }
   ],
   "source": [
    "concat_df_groups_groupsadd.shape[0] - groups.shape[0] - groups_add.shape[0]  # все ок. не потеряли данные "
   ]
  },
  {
   "cell_type": "code",
   "execution_count": 33,
   "metadata": {
    "scrolled": true
   },
   "outputs": [
    {
     "name": "stdout",
     "output_type": "stream",
     "text": [
      "B    59883\n",
      "A    14693\n",
      "Name: grp, dtype: int64\n",
      "процентное соотношение групп: \n",
      " B   0.80\n",
      "A   0.20\n",
      "Name: grp, dtype: float64\n",
      "общее количество пользователей: 74576\n"
     ]
    }
   ],
   "source": [
    "print(concat_df_groups_groupsadd.grp.value_counts())\n",
    "print(f'процентное соотношение групп: \n{concat_df_groups_groupsadd.grp.value_counts(normalize=True)}')\n",
    "print(f'общее количество пользователей: {concat_df_groups_groupsadd.shape[0]}')"
   ]
  },
  {
   "cell_type": "markdown",
   "metadata": {},
   "source": [
    "''' в итоге получается ''' \n",
    "- 74576 - пользователей \n",
    "- 8341 - количество активных пользователей, из них: 7949 - пользовались но нет в checks, получается не оплатили в дни проведения эксперимента \n",
    "- 541 - количество оплативших пользователей, из них: 149 - оплатили, но их нет в списке active_studs (в файле с информацией о пользователе)\n",
    "> Для заметки: странно что оплатившие пользователи не попали в группу пользователей в файлу activ_studs, возможно это какой-то баг. "
   ]
  },
  {
   "cell_type": "code",
   "execution_count": 34,
   "metadata": {},
   "outputs": [],
   "source": [
    "# Далее объединим два файла activ & checks \n",
    "merge_df_activ_checks = active_studs.merge(checks, how='left', on='student_id')"
   ]
  },
  {
   "cell_type": "code",
   "execution_count": 35,
   "metadata": {},
   "outputs": [
    {
     "data": {
      "text/html": [
       "<div>\n",
       "<style scoped>\n",
       "    .dataframe tbody tr th:only-of-type {\n",
       "        vertical-align: middle;\n",
       "    }\n",
       "\n",
       "    .dataframe tbody tr th {\n",
       "        vertical-align: top;\n",
       "    }\n",
       "\n",
       "    .dataframe thead th {\n",
       "        text-align: right;\n",
       "    }\n",
       "</style>\n",
       "<table border=\"1\" class=\"dataframe\">\n",
       "  <thead>\n",
       "    <tr style=\"text-align: right;\">\n",
       "      <th></th>\n",
       "      <th>student_id</th>\n",
       "      <th>rev</th>\n",
       "    </tr>\n",
       "  </thead>\n",
       "  <tbody>\n",
       "    <tr>\n",
       "      <th>0</th>\n",
       "      <td>581585</td>\n",
       "      <td>nan</td>\n",
       "    </tr>\n",
       "    <tr>\n",
       "      <th>1</th>\n",
       "      <td>5723133</td>\n",
       "      <td>nan</td>\n",
       "    </tr>\n",
       "  </tbody>\n",
       "</table>\n",
       "</div>"
      ],
      "text/plain": [
       "   student_id  rev\n",
       "0      581585  nan\n",
       "1     5723133  nan"
      ]
     },
     "execution_count": 35,
     "metadata": {},
     "output_type": "execute_result"
    }
   ],
   "source": [
    "merge_df_activ_checks.head(2)"
   ]
  },
  {
   "cell_type": "code",
   "execution_count": 36,
   "metadata": {},
   "outputs": [
    {
     "data": {
      "text/plain": [
       "(8341, 2)"
      ]
     },
     "execution_count": 36,
     "metadata": {},
     "output_type": "execute_result"
    }
   ],
   "source": [
    "merge_df_activ_checks.shape"
   ]
  },
  {
   "cell_type": "code",
   "execution_count": 37,
   "metadata": {
    "scrolled": true
   },
   "outputs": [
    {
     "data": {
      "text/plain": [
       "student_id       0\n",
       "rev           7949\n",
       "dtype: int64"
      ]
     },
     "execution_count": 37,
     "metadata": {},
     "output_type": "execute_result"
    }
   ],
   "source": [
    "merge_df_activ_checks.isna().sum()"
   ]
  },
  {
   "cell_type": "code",
   "execution_count": 38,
   "metadata": {},
   "outputs": [
    {
     "data": {
      "text/html": [
       "<div>\n",
       "<style scoped>\n",
       "    .dataframe tbody tr th:only-of-type {\n",
       "        vertical-align: middle;\n",
       "    }\n",
       "\n",
       "    .dataframe tbody tr th {\n",
       "        vertical-align: top;\n",
       "    }\n",
       "\n",
       "    .dataframe thead th {\n",
       "        text-align: right;\n",
       "    }\n",
       "</style>\n",
       "<table border=\"1\" class=\"dataframe\">\n",
       "  <thead>\n",
       "    <tr style=\"text-align: right;\">\n",
       "      <th></th>\n",
       "      <th>id</th>\n",
       "      <th>grp</th>\n",
       "    </tr>\n",
       "  </thead>\n",
       "  <tbody>\n",
       "    <tr>\n",
       "      <th>0</th>\n",
       "      <td>1489</td>\n",
       "      <td>B</td>\n",
       "    </tr>\n",
       "    <tr>\n",
       "      <th>1</th>\n",
       "      <td>1627</td>\n",
       "      <td>A</td>\n",
       "    </tr>\n",
       "    <tr>\n",
       "      <th>2</th>\n",
       "      <td>1768</td>\n",
       "      <td>B</td>\n",
       "    </tr>\n",
       "    <tr>\n",
       "      <th>3</th>\n",
       "      <td>1783</td>\n",
       "      <td>B</td>\n",
       "    </tr>\n",
       "    <tr>\n",
       "      <th>4</th>\n",
       "      <td>1794</td>\n",
       "      <td>A</td>\n",
       "    </tr>\n",
       "  </tbody>\n",
       "</table>\n",
       "</div>"
      ],
      "text/plain": [
       "     id grp\n",
       "0  1489   B\n",
       "1  1627   A\n",
       "2  1768   B\n",
       "3  1783   B\n",
       "4  1794   A"
      ]
     },
     "execution_count": 38,
     "metadata": {},
     "output_type": "execute_result"
    }
   ],
   "source": [
    "concat_df_groups_groupsadd.head()"
   ]
  },
  {
   "cell_type": "code",
   "execution_count": 39,
   "metadata": {},
   "outputs": [],
   "source": [
    "# далее выберем и объединим concat_df_groups_groupsadd, но для начала поменяем название колонки чтобы делать merge \n",
    "concat_df_groups_groupsadd = concat_df_groups_groupsadd.rename(columns={'id': 'student_id'})\n"
   ]
  },
  {
   "cell_type": "code",
   "execution_count": 40,
   "metadata": {},
   "outputs": [],
   "source": [
    "merge_all = merge_df_activ_checks.merge(concat_df_groups_groupsadd, how='left', on='student_id')"
   ]
  },
  {
   "cell_type": "code",
   "execution_count": 41,
   "metadata": {},
   "outputs": [
    {
     "data": {
      "text/html": [
       "<div>\n",
       "<style scoped>\n",
       "    .dataframe tbody tr th:only-of-type {\n",
       "        vertical-align: middle;\n",
       "    }\n",
       "\n",
       "    .dataframe tbody tr th {\n",
       "        vertical-align: top;\n",
       "    }\n",
       "\n",
       "    .dataframe thead th {\n",
       "        text-align: right;\n",
       "    }\n",
       "</style>\n",
       "<table border=\"1\" class=\"dataframe\">\n",
       "  <thead>\n",
       "    <tr style=\"text-align: right;\">\n",
       "      <th></th>\n",
       "      <th>student_id</th>\n",
       "      <th>rev</th>\n",
       "      <th>grp</th>\n",
       "    </tr>\n",
       "  </thead>\n",
       "  <tbody>\n",
       "    <tr>\n",
       "      <th>0</th>\n",
       "      <td>581585</td>\n",
       "      <td>nan</td>\n",
       "      <td>A</td>\n",
       "    </tr>\n",
       "    <tr>\n",
       "      <th>1</th>\n",
       "      <td>5723133</td>\n",
       "      <td>nan</td>\n",
       "      <td>A</td>\n",
       "    </tr>\n",
       "    <tr>\n",
       "      <th>2</th>\n",
       "      <td>3276743</td>\n",
       "      <td>nan</td>\n",
       "      <td>B</td>\n",
       "    </tr>\n",
       "    <tr>\n",
       "      <th>3</th>\n",
       "      <td>4238589</td>\n",
       "      <td>nan</td>\n",
       "      <td>A</td>\n",
       "    </tr>\n",
       "    <tr>\n",
       "      <th>4</th>\n",
       "      <td>4475369</td>\n",
       "      <td>nan</td>\n",
       "      <td>B</td>\n",
       "    </tr>\n",
       "  </tbody>\n",
       "</table>\n",
       "</div>"
      ],
      "text/plain": [
       "   student_id  rev grp\n",
       "0      581585  nan   A\n",
       "1     5723133  nan   A\n",
       "2     3276743  nan   B\n",
       "3     4238589  nan   A\n",
       "4     4475369  nan   B"
      ]
     },
     "execution_count": 41,
     "metadata": {},
     "output_type": "execute_result"
    }
   ],
   "source": [
    "merge_all.head()"
   ]
  },
  {
   "cell_type": "code",
   "execution_count": 42,
   "metadata": {},
   "outputs": [
    {
     "data": {
      "text/plain": [
       "0"
      ]
     },
     "execution_count": 42,
     "metadata": {},
     "output_type": "execute_result"
    }
   ],
   "source": [
    "merge_all.shape[0] - merge_df_activ_checks.shape[0]  # данные не потеряны "
   ]
  },
  {
   "cell_type": "code",
   "execution_count": 43,
   "metadata": {},
   "outputs": [],
   "source": [
    "# уберем нулевые столбцы \n",
    "merge_all = merge_all.fillna(0)"
   ]
  },
  {
   "cell_type": "code",
   "execution_count": 44,
   "metadata": {},
   "outputs": [
    {
     "data": {
      "text/html": [
       "<div>\n",
       "<style scoped>\n",
       "    .dataframe tbody tr th:only-of-type {\n",
       "        vertical-align: middle;\n",
       "    }\n",
       "\n",
       "    .dataframe tbody tr th {\n",
       "        vertical-align: top;\n",
       "    }\n",
       "\n",
       "    .dataframe thead th {\n",
       "        text-align: right;\n",
       "    }\n",
       "</style>\n",
       "<table border=\"1\" class=\"dataframe\">\n",
       "  <thead>\n",
       "    <tr style=\"text-align: right;\">\n",
       "      <th></th>\n",
       "      <th>student_id</th>\n",
       "      <th>rev</th>\n",
       "      <th>grp</th>\n",
       "    </tr>\n",
       "  </thead>\n",
       "  <tbody>\n",
       "    <tr>\n",
       "      <th>0</th>\n",
       "      <td>581585</td>\n",
       "      <td>0.00</td>\n",
       "      <td>A</td>\n",
       "    </tr>\n",
       "    <tr>\n",
       "      <th>1</th>\n",
       "      <td>5723133</td>\n",
       "      <td>0.00</td>\n",
       "      <td>A</td>\n",
       "    </tr>\n",
       "    <tr>\n",
       "      <th>2</th>\n",
       "      <td>3276743</td>\n",
       "      <td>0.00</td>\n",
       "      <td>B</td>\n",
       "    </tr>\n",
       "    <tr>\n",
       "      <th>3</th>\n",
       "      <td>4238589</td>\n",
       "      <td>0.00</td>\n",
       "      <td>A</td>\n",
       "    </tr>\n",
       "    <tr>\n",
       "      <th>4</th>\n",
       "      <td>4475369</td>\n",
       "      <td>0.00</td>\n",
       "      <td>B</td>\n",
       "    </tr>\n",
       "  </tbody>\n",
       "</table>\n",
       "</div>"
      ],
      "text/plain": [
       "   student_id  rev grp\n",
       "0      581585 0.00   A\n",
       "1     5723133 0.00   A\n",
       "2     3276743 0.00   B\n",
       "3     4238589 0.00   A\n",
       "4     4475369 0.00   B"
      ]
     },
     "execution_count": 44,
     "metadata": {},
     "output_type": "execute_result"
    }
   ],
   "source": [
    "merge_all.head()"
   ]
  },
  {
   "cell_type": "code",
   "execution_count": 45,
   "metadata": {},
   "outputs": [
    {
     "data": {
      "text/plain": [
       "392"
      ]
     },
     "execution_count": 45,
     "metadata": {},
     "output_type": "execute_result"
    }
   ],
   "source": [
    "merge_all[merge_all.rev != 0].shape[0]"
   ]
  },
  {
   "cell_type": "code",
   "execution_count": 46,
   "metadata": {
    "scrolled": true
   },
   "outputs": [
    {
     "data": {
      "text/plain": [
       "B    314\n",
       "A     78\n",
       "Name: grp, dtype: int64"
      ]
     },
     "execution_count": 46,
     "metadata": {},
     "output_type": "execute_result"
    }
   ],
   "source": [
    "merge_all[merge_all.rev != 0].grp.value_counts()"
   ]
  },
  {
   "cell_type": "code",
   "execution_count": 47,
   "metadata": {},
   "outputs": [
    {
     "data": {
      "text/plain": [
       "student_id      int64\n",
       "rev           float64\n",
       "grp            object\n",
       "dtype: object"
      ]
     },
     "execution_count": 47,
     "metadata": {},
     "output_type": "execute_result"
    }
   ],
   "source": [
    "merge_all.dtypes"
   ]
  },
  {
   "cell_type": "code",
   "execution_count": 48,
   "metadata": {
    "scrolled": true
   },
   "outputs": [],
   "source": [
    "group_data_A = merge_all[(merge_all.rev!= 0) & (merge_all.grp == 'A')]"
   ]
  },
  {
   "cell_type": "code",
   "execution_count": 49,
   "metadata": {
    "scrolled": false
   },
   "outputs": [
    {
     "data": {
      "text/html": [
       "<div>\n",
       "<style scoped>\n",
       "    .dataframe tbody tr th:only-of-type {\n",
       "        vertical-align: middle;\n",
       "    }\n",
       "\n",
       "    .dataframe tbody tr th {\n",
       "        vertical-align: top;\n",
       "    }\n",
       "\n",
       "    .dataframe thead th {\n",
       "        text-align: right;\n",
       "    }\n",
       "</style>\n",
       "<table border=\"1\" class=\"dataframe\">\n",
       "  <thead>\n",
       "    <tr style=\"text-align: right;\">\n",
       "      <th></th>\n",
       "      <th>student_id</th>\n",
       "      <th>rev</th>\n",
       "      <th>grp</th>\n",
       "    </tr>\n",
       "  </thead>\n",
       "  <tbody>\n",
       "    <tr>\n",
       "      <th>62</th>\n",
       "      <td>1184303</td>\n",
       "      <td>1530.00</td>\n",
       "      <td>A</td>\n",
       "    </tr>\n",
       "    <tr>\n",
       "      <th>99</th>\n",
       "      <td>720651</td>\n",
       "      <td>1980.00</td>\n",
       "      <td>A</td>\n",
       "    </tr>\n",
       "    <tr>\n",
       "      <th>306</th>\n",
       "      <td>4337103</td>\n",
       "      <td>580.00</td>\n",
       "      <td>A</td>\n",
       "    </tr>\n",
       "    <tr>\n",
       "      <th>392</th>\n",
       "      <td>332387</td>\n",
       "      <td>2910.00</td>\n",
       "      <td>A</td>\n",
       "    </tr>\n",
       "    <tr>\n",
       "      <th>439</th>\n",
       "      <td>1659434</td>\n",
       "      <td>690.00</td>\n",
       "      <td>A</td>\n",
       "    </tr>\n",
       "  </tbody>\n",
       "</table>\n",
       "</div>"
      ],
      "text/plain": [
       "     student_id     rev grp\n",
       "62      1184303 1530.00   A\n",
       "99       720651 1980.00   A\n",
       "306     4337103  580.00   A\n",
       "392      332387 2910.00   A\n",
       "439     1659434  690.00   A"
      ]
     },
     "execution_count": 49,
     "metadata": {},
     "output_type": "execute_result"
    }
   ],
   "source": [
    "group_data_A.head()  # оплатили из группы А"
   ]
  },
  {
   "cell_type": "code",
   "execution_count": 50,
   "metadata": {},
   "outputs": [],
   "source": [
    "group_data_B = merge_all[(merge_all.rev != 0) & (merge_all.grp == 'B')]"
   ]
  },
  {
   "cell_type": "code",
   "execution_count": 51,
   "metadata": {},
   "outputs": [
    {
     "data": {
      "text/html": [
       "<div>\n",
       "<style scoped>\n",
       "    .dataframe tbody tr th:only-of-type {\n",
       "        vertical-align: middle;\n",
       "    }\n",
       "\n",
       "    .dataframe tbody tr th {\n",
       "        vertical-align: top;\n",
       "    }\n",
       "\n",
       "    .dataframe thead th {\n",
       "        text-align: right;\n",
       "    }\n",
       "</style>\n",
       "<table border=\"1\" class=\"dataframe\">\n",
       "  <thead>\n",
       "    <tr style=\"text-align: right;\">\n",
       "      <th></th>\n",
       "      <th>student_id</th>\n",
       "      <th>rev</th>\n",
       "      <th>grp</th>\n",
       "    </tr>\n",
       "  </thead>\n",
       "  <tbody>\n",
       "    <tr>\n",
       "      <th>67</th>\n",
       "      <td>3354191</td>\n",
       "      <td>1900.00</td>\n",
       "      <td>B</td>\n",
       "    </tr>\n",
       "    <tr>\n",
       "      <th>77</th>\n",
       "      <td>3278734</td>\n",
       "      <td>1900.00</td>\n",
       "      <td>B</td>\n",
       "    </tr>\n",
       "    <tr>\n",
       "      <th>193</th>\n",
       "      <td>1232221</td>\n",
       "      <td>1900.00</td>\n",
       "      <td>B</td>\n",
       "    </tr>\n",
       "    <tr>\n",
       "      <th>195</th>\n",
       "      <td>3821501</td>\n",
       "      <td>1900.00</td>\n",
       "      <td>B</td>\n",
       "    </tr>\n",
       "    <tr>\n",
       "      <th>211</th>\n",
       "      <td>1036096</td>\n",
       "      <td>1900.00</td>\n",
       "      <td>B</td>\n",
       "    </tr>\n",
       "  </tbody>\n",
       "</table>\n",
       "</div>"
      ],
      "text/plain": [
       "     student_id     rev grp\n",
       "67      3354191 1900.00   B\n",
       "77      3278734 1900.00   B\n",
       "193     1232221 1900.00   B\n",
       "195     3821501 1900.00   B\n",
       "211     1036096 1900.00   B"
      ]
     },
     "execution_count": 51,
     "metadata": {},
     "output_type": "execute_result"
    }
   ],
   "source": [
    "group_data_B.head()  # оплатили из группы B"
   ]
  },
  {
   "cell_type": "code",
   "execution_count": 52,
   "metadata": {},
   "outputs": [
    {
     "data": {
      "image/png": "[encoded data removed]",
      "text/plain": [
       "<Figure size 1152x432 with 1 Axes>"
      ]
     },
     "metadata": {},
     "output_type": "display_data"
    }
   ],
   "source": [
    "plt.hist(group_data_B.rev, bins=50)\n",
    "plt.style.use('ggplot')\n",
    "plt.show()"
   ]
  },
  {
   "cell_type": "code",
   "execution_count": 53,
   "metadata": {},
   "outputs": [
    {
     "data": {
      "image/png": "[encoded data removed]",
      "text/plain": [
       "<Figure size 1152x432 with 1 Axes>"
      ]
     },
     "metadata": {},
     "output_type": "display_data"
    }
   ],
   "source": [
    "plt.hist(group_data_A.rev, bins=50)\n",
    "plt.style.use('ggplot')\n",
    "plt.show()"
   ]
  },
  {
   "cell_type": "code",
   "execution_count": 54,
   "metadata": {},
   "outputs": [],
   "source": [
    "# посмотрим на распределение по нулевым rev, то есть не оплативших \n",
    "group_data_A_0 = merge_all[(merge_all.rev == 0) & (merge_all.grp == 'A')]"
   ]
  },
  {
   "cell_type": "code",
   "execution_count": 55,
   "metadata": {},
   "outputs": [
    {
     "data": {
      "text/html": [
       "<div>\n",
       "<style scoped>\n",
       "    .dataframe tbody tr th:only-of-type {\n",
       "        vertical-align: middle;\n",
       "    }\n",
       "\n",
       "    .dataframe tbody tr th {\n",
       "        vertical-align: top;\n",
       "    }\n",
       "\n",
       "    .dataframe thead th {\n",
       "        text-align: right;\n",
       "    }\n",
       "</style>\n",
       "<table border=\"1\" class=\"dataframe\">\n",
       "  <thead>\n",
       "    <tr style=\"text-align: right;\">\n",
       "      <th></th>\n",
       "      <th>student_id</th>\n",
       "      <th>rev</th>\n",
       "      <th>grp</th>\n",
       "    </tr>\n",
       "  </thead>\n",
       "  <tbody>\n",
       "    <tr>\n",
       "      <th>0</th>\n",
       "      <td>581585</td>\n",
       "      <td>0.00</td>\n",
       "      <td>A</td>\n",
       "    </tr>\n",
       "    <tr>\n",
       "      <th>1</th>\n",
       "      <td>5723133</td>\n",
       "      <td>0.00</td>\n",
       "      <td>A</td>\n",
       "    </tr>\n",
       "    <tr>\n",
       "      <th>3</th>\n",
       "      <td>4238589</td>\n",
       "      <td>0.00</td>\n",
       "      <td>A</td>\n",
       "    </tr>\n",
       "    <tr>\n",
       "      <th>7</th>\n",
       "      <td>1394612</td>\n",
       "      <td>0.00</td>\n",
       "      <td>A</td>\n",
       "    </tr>\n",
       "    <tr>\n",
       "      <th>21</th>\n",
       "      <td>5194768</td>\n",
       "      <td>0.00</td>\n",
       "      <td>A</td>\n",
       "    </tr>\n",
       "  </tbody>\n",
       "</table>\n",
       "</div>"
      ],
      "text/plain": [
       "    student_id  rev grp\n",
       "0       581585 0.00   A\n",
       "1      5723133 0.00   A\n",
       "3      4238589 0.00   A\n",
       "7      1394612 0.00   A\n",
       "21     5194768 0.00   A"
      ]
     },
     "execution_count": 55,
     "metadata": {},
     "output_type": "execute_result"
    }
   ],
   "source": [
    "group_data_A_0.head()"
   ]
  },
  {
   "cell_type": "code",
   "execution_count": 56,
   "metadata": {},
   "outputs": [],
   "source": [
    "group_data_B_0 = merge_all[(merge_all.rev == 0) & (merge_all.grp == 'B')]"
   ]
  },
  {
   "cell_type": "code",
   "execution_count": 57,
   "metadata": {},
   "outputs": [
    {
     "data": {
      "text/html": [
       "<div>\n",
       "<style scoped>\n",
       "    .dataframe tbody tr th:only-of-type {\n",
       "        vertical-align: middle;\n",
       "    }\n",
       "\n",
       "    .dataframe tbody tr th {\n",
       "        vertical-align: top;\n",
       "    }\n",
       "\n",
       "    .dataframe thead th {\n",
       "        text-align: right;\n",
       "    }\n",
       "</style>\n",
       "<table border=\"1\" class=\"dataframe\">\n",
       "  <thead>\n",
       "    <tr style=\"text-align: right;\">\n",
       "      <th></th>\n",
       "      <th>student_id</th>\n",
       "      <th>rev</th>\n",
       "      <th>grp</th>\n",
       "    </tr>\n",
       "  </thead>\n",
       "  <tbody>\n",
       "    <tr>\n",
       "      <th>2</th>\n",
       "      <td>3276743</td>\n",
       "      <td>0.00</td>\n",
       "      <td>B</td>\n",
       "    </tr>\n",
       "    <tr>\n",
       "      <th>4</th>\n",
       "      <td>4475369</td>\n",
       "      <td>0.00</td>\n",
       "      <td>B</td>\n",
       "    </tr>\n",
       "    <tr>\n",
       "      <th>5</th>\n",
       "      <td>5481015</td>\n",
       "      <td>0.00</td>\n",
       "      <td>B</td>\n",
       "    </tr>\n",
       "    <tr>\n",
       "      <th>6</th>\n",
       "      <td>1353433</td>\n",
       "      <td>0.00</td>\n",
       "      <td>B</td>\n",
       "    </tr>\n",
       "    <tr>\n",
       "      <th>8</th>\n",
       "      <td>1170611</td>\n",
       "      <td>0.00</td>\n",
       "      <td>B</td>\n",
       "    </tr>\n",
       "  </tbody>\n",
       "</table>\n",
       "</div>"
      ],
      "text/plain": [
       "   student_id  rev grp\n",
       "2     3276743 0.00   B\n",
       "4     4475369 0.00   B\n",
       "5     5481015 0.00   B\n",
       "6     1353433 0.00   B\n",
       "8     1170611 0.00   B"
      ]
     },
     "execution_count": 57,
     "metadata": {},
     "output_type": "execute_result"
    }
   ],
   "source": [
    "group_data_B_0.head()"
   ]
  },
  {
   "cell_type": "code",
   "execution_count": 58,
   "metadata": {},
   "outputs": [
    {
     "data": {
      "image/png": "[encoded data removed]",
      "text/plain": [
       "<Figure size 1152x432 with 1 Axes>"
      ]
     },
     "metadata": {},
     "output_type": "display_data"
    }
   ],
   "source": [
    "plt.hist(group_data_A_0.rev, bins=50)\n",
    "plt.style.use('ggplot')\n",
    "plt.show()"
   ]
  },
  {
   "cell_type": "code",
   "execution_count": 59,
   "metadata": {},
   "outputs": [
    {
     "data": {
      "image/png": "[encoded data removed]",
      "text/plain": [
       "<Figure size 1152x432 with 1 Axes>"
      ]
     },
     "metadata": {},
     "output_type": "display_data"
    }
   ],
   "source": [
    "plt.hist(group_data_B_0.rev, bins=50)\n",
    "plt.style.use('ggplot')\n",
    "plt.show()"
   ]
  },
  {
   "cell_type": "markdown",
   "metadata": {},
   "source": [
    "думаю в обязательном порядке нужно расчитать:\n",
    "- Конверсию (conversion rate) по распределенным группам, которая означает отношение числа пользователей, совершивших целевое действие на определенном этапе, к общему числу тех, кто дошел до данного этапа;\n",
    "- ARPU (средний доход на пользователя) - отношение дохода за определенный период на количество уникальных посетителей за тот же период;\n",
    "- ARPPU (средний доход на платящего пользователя) - это метрика, которая показывает среднюю прибыль от одного платящего   пользователя за определенный период времени. Она позволяет измерять ценность продукта компании и прогнозировать доход."
   ]
  },
  {
   "cell_type": "code",
   "execution_count": 60,
   "metadata": {},
   "outputs": [
    {
     "name": "stdout",
     "output_type": "stream",
     "text": [
      "CR для группы B = 4.84\n",
      "CR для группы A = 5.34\n"
     ]
    }
   ],
   "source": [
    "print(f'CR для группы B = {round((group_data_B.student_id.count() / group_data_B_0.student_id.count()) * 100, 2)}')\n",
    "print(f'CR для группы A = {round((group_data_A.student_id.count() / group_data_A_0.student_id.count()) * 100, 2)}')"
   ]
  },
  {
   "cell_type": "code",
   "execution_count": 61,
   "metadata": {
    "scrolled": true
   },
   "outputs": [
    {
     "name": "stdout",
     "output_type": "stream",
     "text": [
      "ARPU по группе B = 60.87\n",
      "ARPU по группе A = 49.88\n"
     ]
    }
   ],
   "source": [
    "print(f'ARPU по группе B = {round(group_data_B.rev.sum() / group_data_B_0.student_id.count(), 2)}')\n",
    "print(f'ARPU по группе A = {round(group_data_A.rev.sum() / group_data_A_0.student_id.count(), 2)}')"
   ]
  },
  {
   "cell_type": "code",
   "execution_count": 62,
   "metadata": {},
   "outputs": [
    {
     "name": "stdout",
     "output_type": "stream",
     "text": [
      "ARPPU по группе B = 1257.88\n",
      "ARPPU по группе A = 933.59\n"
     ]
    }
   ],
   "source": [
    "print(f'ARPPU по группе B = {round(group_data_B.rev.mean(), 2)}')\n",
    "print(f'ARPPU по группе A = {round(group_data_A.rev.mean(), 2)}')"
   ]
  },
  {
   "cell_type": "code",
   "execution_count": 63,
   "metadata": {},
   "outputs": [],
   "source": [
    "# невооруженным глазом заметно, что по вышеуказанным метрикам, группы А и В различаются между собой. Но чтобы быть \n",
    "# наверняка уверенным, применим ниже функцию bootstrap для тестирования и утвердимся в наших заключениях. "
   ]
  },
  {
   "cell_type": "code",
   "execution_count": 64,
   "metadata": {},
   "outputs": [],
   "source": [
    "# импортируем нужные библиотеки для проверки гипотез\n",
    "from scipy.stats import norm, mannwhitneyu\n",
    "from tqdm.auto import tqdm\n",
    "\n",
    "plt.style.use('ggplot')"
   ]
  },
  {
   "cell_type": "code",
   "execution_count": 65,
   "metadata": {},
   "outputs": [],
   "source": [
    "# Объявим функцию, которая позволит проверять гипотезы с помощью бутстрапа\n",
    "def get_bootstrap(\n",
    "    data_column_1,  # числовые значения первой выборки\n",
    "    data_column_2,  # числовые значения второй выборки\n",
    "    boot_it=1000,  # количество бутстрэп-подвыборок\n",
    "    statistic=np.mean,  # интересующая нас статистика\n",
    "    bootstrap_conf_level=0.95  # уровень значимости\n",
    "):\n",
    "    boot_data = []\n",
    "    for i in tqdm(range(boot_it)):  # извлекаем подвыборки\n",
    "        samples_1 = data_column_1.sample(\n",
    "            len(data_column_1), \n",
    "            replace=True  # параметр возвращения\n",
    "        ).values\n",
    "        \n",
    "        samples_2 = data_column_2.sample(\n",
    "            len(data_column_2), \n",
    "            replace=True\n",
    "        ).values\n",
    "        \n",
    "        boot_data.append(statistic(samples_1) - statistic(samples_2))  # mean() - применяем статистику\n",
    "        \n",
    "    pd_boot_data = pd.DataFrame(boot_data)\n",
    "        \n",
    "    left_quant = (1 - bootstrap_conf_level) / 2\n",
    "    right_quant = 1 - (1 - bootstrap_conf_level) / 2\n",
    "    quants = pd_boot_data.quantile([left_quant, right_quant])\n",
    "        \n",
    "    p_1 = norm.cdf(\n",
    "        x=0, \n",
    "        loc=np.mean(boot_data), \n",
    "        scale=np.std(boot_data)\n",
    "    )\n",
    "    p_2 = norm.cdf(\n",
    "        x=0, \n",
    "        loc=-np.mean(boot_data), \n",
    "        scale=np.std(boot_data)\n",
    "    )\n",
    "    p_value = min(p_1, p_2) * 2\n",
    "        \n",
    "    # Визуализация\n",
    "    _, _, bars = plt.hist(pd_boot_data[0], bins=50)\n",
    "    for bar in bars:\n",
    "        if bar.get_x() <= quants.iloc[0][0] or bar.get_x() >= quants.iloc[1][0]:\n",
    "            bar.set_facecolor('red')\n",
    "        else: \n",
    "            bar.set_facecolor('grey')\n",
    "            bar.set_edgecolor('black')\n",
    "    \n",
    "    plt.style.use('ggplot')\n",
    "    plt.vlines(quants, ymin=0, ymax=50, linestyle='--')\n",
    "    plt.xlabel('boot_data')\n",
    "    plt.ylabel('frequency')\n",
    "    plt.title(\"Histogram of boot_data\")\n",
    "    plt.show()\n",
    "       \n",
    "    return {\"quants\": quants, \n",
    "            \"p_value\": p_value}"
   ]
  },
  {
   "cell_type": "code",
   "execution_count": 66,
   "metadata": {},
   "outputs": [],
   "source": [
    "def CR(x):\n",
    "    ''' расчитаем CR для применения ее в statistic в функции bootstrap'''\n",
    "    return sum(x) / len(x)\n",
    "def ARPU(y):\n",
    "    ''' расчитаем ARPU для применения ее в statistic в функции bootstrap'''\n",
    "    return np.mean(y)\n",
    "def ARPPU(y):\n",
    "    ''' расчитаем ARPPU для применения ее в statistic в функции bootstrap'''\n",
    "    return np.mean(y)"
   ]
  },
  {
   "cell_type": "markdown",
   "metadata": {},
   "source": [
    "- Н0 - нулевая гипотеза, CR не различаются между группами\n",
    "- Н1 - альтернативная гипотеза"
   ]
  },
  {
   "cell_type": "code",
   "execution_count": 67,
   "metadata": {
    "scrolled": false
   },
   "outputs": [
    {
     "data": {
      "application/vnd.jupyter.widget-view+json": {
       "model_id": "4ace47dbd2ec4959830f39b914ed2663",
       "version_major": 2,
       "version_minor": 0
      },
      "text/plain": [
       "HBox(children=(FloatProgress(value=0.0, max=1000.0), HTML(value='')))"
      ]
     },
     "metadata": {},
     "output_type": "display_data"
    },
    {
     "name": "stdout",
     "output_type": "stream",
     "text": [
      "\n"
     ]
    },
    {
     "data": {
      "image/png": "[encoded data removed]",
      "text/plain": [
       "<Figure size 1152x432 with 1 Axes>"
      ]
     },
     "metadata": {},
     "output_type": "display_data"
    },
    {
     "data": {
      "text/plain": [
       "{'quants':            0\n",
       " 0.03 -541.22\n",
       " 0.97  -96.29,\n",
       " 'p_value': 0.005173246338379786}"
      ]
     },
     "execution_count": 67,
     "metadata": {},
     "output_type": "execute_result"
    }
   ],
   "source": [
    "get_bootstrap(group_data_A.rev, group_data_B.rev, statistic=CR)"
   ]
  },
  {
   "cell_type": "markdown",
   "metadata": {},
   "source": [
    "- Н0 - нулевая гипотеза, ARPU не различаются между группами\n",
    "- Н1 - альтернативная гипотеза"
   ]
  },
  {
   "cell_type": "code",
   "execution_count": 68,
   "metadata": {
    "scrolled": true
   },
   "outputs": [
    {
     "data": {
      "application/vnd.jupyter.widget-view+json": {
       "model_id": "81adc0949a894ca5b1e397ae9c4b0119",
       "version_major": 2,
       "version_minor": 0
      },
      "text/plain": [
       "HBox(children=(FloatProgress(value=0.0, max=1000.0), HTML(value='')))"
      ]
     },
     "metadata": {},
     "output_type": "display_data"
    },
    {
     "name": "stdout",
     "output_type": "stream",
     "text": [
      "\n"
     ]
    },
    {
     "data": {
      "image/png": "[encoded data removed]",
      "text/plain": [
       "<Figure size 1152x432 with 1 Axes>"
      ]
     },
     "metadata": {},
     "output_type": "display_data"
    },
    {
     "data": {
      "text/plain": [
       "{'quants':            0\n",
       " 0.03 -535.72\n",
       " 0.97 -112.38,\n",
       " 'p_value': 0.002541567152662068}"
      ]
     },
     "execution_count": 68,
     "metadata": {},
     "output_type": "execute_result"
    }
   ],
   "source": [
    "get_bootstrap(group_data_A.rev, group_data_B.rev, statistic=ARPU)\n"
   ]
  },
  {
   "cell_type": "markdown",
   "metadata": {},
   "source": [
    "- Н0 - нулевая гипотеза, ARPPU не различаются между группами\n",
    "- Н1 - альтернативная гипотеза"
   ]
  },
  {
   "cell_type": "code",
   "execution_count": 69,
   "metadata": {},
   "outputs": [
    {
     "data": {
      "application/vnd.jupyter.widget-view+json": {
       "model_id": "c4dd7376c84d4f1dbafeaadda860043b",
       "version_major": 2,
       "version_minor": 0
      },
      "text/plain": [
       "HBox(children=(FloatProgress(value=0.0, max=1000.0), HTML(value='')))"
      ]
     },
     "metadata": {},
     "output_type": "display_data"
    },
    {
     "name": "stdout",
     "output_type": "stream",
     "text": [
      "\n"
     ]
    },
    {
     "data": {
      "image/png": "[encoded data removed]",
      "text/plain": [
       "<Figure size 1152x432 with 1 Axes>"
      ]
     },
     "metadata": {},
     "output_type": "display_data"
    },
    {
     "data": {
      "text/plain": [
       "{'quants':            0\n",
       " 0.03 -537.04\n",
       " 0.97 -112.04,\n",
       " 'p_value': 0.002588402977429521}"
      ]
     },
     "execution_count": 69,
     "metadata": {},
     "output_type": "execute_result"
    }
   ],
   "source": [
    "get_bootstrap(group_data_A.rev, group_data_B.rev, statistic=ARPPU)"
   ]
  },
  {
   "cell_type": "code",
   "execution_count": 70,
   "metadata": {},
   "outputs": [
    {
     "data": {
      "text/plain": [
       "MannwhitneyuResult(statistic=9001.0, pvalue=0.0002511393831406922)"
      ]
     },
     "execution_count": 70,
     "metadata": {},
     "output_type": "execute_result"
    }
   ],
   "source": [
    "# \n",
    ""
   ]
  },
  {
   "cell_type": "code",
   "execution_count": 71,
   "metadata": {
    "scrolled": true
   },
   "outputs": [],
   "source": [
    "# можем также расчитать t-test  с помощью pingouin \n",
    "from statsmodels.stats.weightstats import ttest_ind\n",
    "import pingouin as pg"
   ]
  },
  {
   "cell_type": "code",
   "execution_count": 72,
   "metadata": {},
   "outputs": [
    {
     "name": "stdout",
     "output_type": "stream",
     "text": [
      "           T    dof alternative  p-val              CI95%  cohen-d   BF10  \\\n",
      "T-test -2.86 106.98   two-sided   0.01  [-548.94, -99.64]     0.40  6.536   \n",
      "\n",
      "        power  \n",
      "T-test   0.88  \n"
     ]
    }
   ],
   "source": [
    "result = pg.ttest(group_data_A.rev, group_data_B.rev, correction=True)\n",
    "print(result)"
   ]
  },
  {
   "cell_type": "code",
   "execution_count": 73,
   "metadata": {},
   "outputs": [
    {
     "data": {
      "text/plain": [
       "(-3.1337795050931008, 0.0018562025265765703, 390.0)"
      ]
     },
     "execution_count": 73,
     "metadata": {},
     "output_type": "execute_result"
    }
   ],
   "source": [
    "# проверим еще через statsmodels\n",
    "ttest_ind(group_data_A.rev, group_data_B.rev)"
   ]
  },
  {
   "cell_type": "markdown",
   "metadata": {},
   "source": [
    "> все сводится к тому, что\n",
    "pvalue < 0.05, который значит, что имеются статически значимые различия между группой А и группой В.\n",
    "соответственно мы отвергаем нулевую гипотезу об отсутствии различии. \n",
    "Результатом тестирования стал, что можно запускать новую механику для пользователей "
   ]
  },
  {
   "cell_type": "markdown",
   "metadata": {},
   "source": [
    "### Задание 2. SQL"
   ]
  },
  {
   "cell_type": "markdown",
   "metadata": {},
   "source": [
    "***2.1.2 Задача: Необходимо написать оптимальный запрос, который даст информацию о количестве очень усердных студентов.NB! Под усердным студентом мы понимаем студента, который правильно решил 20 задач за текущий месяц.***"
   ]
  },
  {
   "cell_type": "code",
   "execution_count": null,
   "metadata": {},
   "outputs": [],
   "source": [
    "SELECT COUNT(DISTINCT st_id) unique_students          -- выбор уникальных студентов\n",
    "FROM (                                                -- в подзапросе выполняем расчеты по месяцу  \n",
    "  SELECT st_id, SUM(correct) OVER w AS solve_in_month\n",
    "  FROM peas\n",
    "  WHERE date_part('month', timest) = 1 AND date_part('year', timest) = 2022\n",
    "  WINDOW w AS (PARTITION BY st_id ORDER BY timest ASC RANGE BETWEEN '1 month' PRECEDING AND CURRENT ROW) -- кол-во правильных ответов\n",
    ") AS t1 -- группировка, сортировка, расчет в теч месяца\n",
    "WHERE solve_in_month >= 20"
   ]
  },
  {
   "cell_type": "markdown",
   "metadata": {},
   "source": [
    "***2.2.2 Задача: Необходимо в одном запросе выгрузить следующую информацию о группах пользователей:***\n",
    "- ARPU \n",
    "- ARPAU\n",
    "- CR в покупку\n",
    "- СR активного пользователя в покупку \n",
    "- CR пользователя из активности по математике (subject = ’math’) в покупку курса по математике\n",
    "\n",
    "***ARPU считается относительно всех пользователей, попавших в группы. \n",
    "Активным считается пользователь, за все время решивший больше 10 задач правильно в любых дисциплинах.\n",
    "Активным по математике считается пользователь, за все время решивший 2 или больше задач правильно по математике.***"
   ]
  },
  {
   "cell_type": "code",
   "execution_count": null,
   "metadata": {},
   "outputs": [],
   "source": [
    "1 Надо найти Активного пользователя в целом для расчета CR \n",
    "2 Надо найти активного пользователя по математике для расчета CR \n",
    "3 пропишем все формулы и столбцы которые будем использовать для агрегации"
   ]
  },
  {
   "cell_type": "code",
   "execution_count": null,
   "metadata": {},
   "outputs": [],
   "source": [
    "select\n",
    "    studs.test_grp,\n",
    "    SUM(sold_subjects.sum_money) / COUNT(msit.st_id) AS ARPU,\n",
    "    SUM(sold_subjects.sum_money) / SUM(msit.max_solve_in_total) AS ARPAU,\n",
    "    SUM(sold_subjects.whole_subject)::float / COUNT(msit.st_id) AS CR, -- CR по всем предметам \n",
    "    SUM(CASE WHEN msit.max_solve_in_total = 1 AND sold_subjects.whole_subject = 1 THEN 1 ELSE 0 END)::float / SUM(msit.max_solve_in_total) AS СR_aktiv_users,\n",
    "    SUM(CASE WHEN ms.math_solve = 1 AND sold_subjects.math_sold = 1 THEN 1 ELSE 0 END)::float / SUM(ms.math_solve) AS CR_math\n",
    "FROM\n",
    "-- ''' 1 Надо найти Активного пользователя в целом для расчета CR '''\n",
    "    (select \n",
    "        t1.st_id,\n",
    "        max(CASE when t1.solve_in_one_day >=30 then 1 else 0 END) max_solve_in_total\n",
    "    FROM \n",
    "        (SELECT\n",
    "            st_id,\n",
    "            timest,\n",
    "            subject,\n",
    "            sum(correct) over w as solve_in_one_day\n",
    "        FROM\n",
    "            peas\n",
    "        WINDOW w AS (PARTITION BY st_id\n",
    "                    ORDER BY timest ASC\n",
    "                    RANGE BETWEEN '1 day' PRECEDING AND CURRENT ROW)\n",
    "        ) as t1\n",
    "    group BY st_id) as msit -- max_solve_in_total\n",
    "join -- объединим таблицу с расчетом решении по математике \n",
    "-- ''' 2 Надо найти активного пользователя по математике для расчета CR_math '''\n",
    "    (SELECT \n",
    "        t2.st_id, \n",
    "        MAX(CASE WHEN t2.solve_math_in_one_day >= 30 THEN 1 ELSE 0 END) AS math_solve\n",
    "    FROM \n",
    "    ( \n",
    "        SELECT     \n",
    "            st_id, \n",
    "            timest,\n",
    "            subject,\n",
    "            SUM(correct) OVER W AS solve_math_in_one_day \n",
    "        FROM peas \n",
    "        WHERE subject ='math' \n",
    "        WINDOW W AS (\n",
    "            PARTITION BY st_id, subject                       \n",
    "            ORDER BY timest\n",
    "            RANGE BETWEEN '1 day' PRECEDING AND CURRENT ROW\n",
    "        )\n",
    "    ) AS t2\n",
    "    GROUP BY st_id) as ms -- math_sold\n",
    "on msit.st_id = ms.st_id\n",
    "join studs -- объединим из таблицы studs получим данные по пользователям тестовой и контрольной группы\n",
    "on msit.st_id = studs.st_id\n",
    "-- далее мы объединим и рассчитаем оплативших пользователей\n",
    "join (\n",
    "    select \n",
    "        st_id,\n",
    "        sum(money) as sum_money,\n",
    "        1 as whole_subject, -- 1 которые оплатили по всем предметам \n",
    "        max(CASE WHEN subject = 'math' THEN 1 ELSE 0 END) AS math_sold -- оплатили по математике \n",
    "    FROM checks \n",
    "    GROUP BY st_id\n",
    "    ) AS sold_subjects -- проданные предметы \n",
    "ON msit.st_id = sold_subjects.st_id\n",
    "GROUP BY test_grp\n"
   ]
  },
  {
   "cell_type": "markdown",
   "metadata": {},
   "source": [
    "### Задание 3. Python"
   ]
  },
  {
   "cell_type": "markdown",
   "metadata": {},
   "source": [
    "***3.1 Задача:***    \n",
    "***1. Реализуйте функцию, которая будет автоматически подгружать информацию из дополнительного файла groups_add.csv (заголовки могут отличаться) и на основании дополнительных параметров пересчитывать метрики.***    \n",
    "***2. Реализуйте функцию, которая будет строить графики по получаемым метрикам.*** "
   ]
  },
  {
   "cell_type": "code",
   "execution_count": 74,
   "metadata": {},
   "outputs": [
    {
     "data": {
      "text/html": [
       "<div>\n",
       "<style scoped>\n",
       "    .dataframe tbody tr th:only-of-type {\n",
       "        vertical-align: middle;\n",
       "    }\n",
       "\n",
       "    .dataframe tbody tr th {\n",
       "        vertical-align: top;\n",
       "    }\n",
       "\n",
       "    .dataframe thead th {\n",
       "        text-align: right;\n",
       "    }\n",
       "</style>\n",
       "<table border=\"1\" class=\"dataframe\">\n",
       "  <thead>\n",
       "    <tr style=\"text-align: right;\">\n",
       "      <th></th>\n",
       "      <th>grp</th>\n",
       "      <th>active_studs</th>\n",
       "      <th>paying_studs</th>\n",
       "      <th>ARPPU</th>\n",
       "      <th>rev_sum</th>\n",
       "      <th>ARPU</th>\n",
       "      <th>CR</th>\n",
       "    </tr>\n",
       "  </thead>\n",
       "  <tbody>\n",
       "    <tr>\n",
       "      <th>0</th>\n",
       "      <td>A</td>\n",
       "      <td>1538</td>\n",
       "      <td>78</td>\n",
       "      <td>933.59</td>\n",
       "      <td>72820.00</td>\n",
       "      <td>47.35</td>\n",
       "      <td>5.07</td>\n",
       "    </tr>\n",
       "    <tr>\n",
       "      <th>1</th>\n",
       "      <td>B</td>\n",
       "      <td>6803</td>\n",
       "      <td>314</td>\n",
       "      <td>1257.88</td>\n",
       "      <td>394974.00</td>\n",
       "      <td>58.06</td>\n",
       "      <td>4.62</td>\n",
       "    </tr>\n",
       "  </tbody>\n",
       "</table>\n",
       "</div>"
      ],
      "text/plain": [
       "  grp  active_studs  paying_studs   ARPPU   rev_sum  ARPU   CR\n",
       "0   A          1538            78  933.59  72820.00 47.35 5.07\n",
       "1   B          6803           314 1257.88 394974.00 58.06 4.62"
      ]
     },
     "execution_count": 74,
     "metadata": {},
     "output_type": "execute_result"
    }
   ],
   "source": [
    "def metric_task3(groups, groups_add, active_studs, checks):  # используем те же датасеты из первой задачи\n",
    "    \n",
    "    \"\"\" добавляет новые данные по группам и пересчитывает метрики (ARPPU, CR, rev_sum, ARPU) \"\"\"\n",
    "    \n",
    "    groups.rename(columns={groups.columns[0]: 'student_id', groups.columns[-1]: 'grp'}, inplace=True)\n",
    "    groups_add.rename(columns={groups_add.columns[0]: 'student_id', groups_add.columns[-1]: 'grp'}, inplace=True)\n",
    "    active_studs['active_studs'] = 'active_studs'\n",
    "    checks['checks'] = 'checks'\n",
    "    all_groups = pd.concat([groups, groups_add]).drop_duplicates().dropna()  #соединим группы пользователей\n",
    "    df1 = all_groups.merge(active_studs, how='left', on='student_id')  # объединим активных пользователей\n",
    "    df2 = df1.merge(checks, how='left', on='student_id')  # объединим оплату\n",
    "    df2 = df2.fillna(0)  # заполним NaN значения 0-ми\n",
    "    group_df = df2.query(\"active_studs == 'active_studs'\")\\\n",
    "                .groupby('grp', as_index=False).agg({'student_id': 'count'})\\\n",
    "                .rename(columns={'student_id': 'active_studs'})  # посчитаем активных пользователей\n",
    "    df_users = df2.query(\"active_studs == 'active_studs'\").query(\"rev != 0\")  # уберем нулевые значения для расчета метрик\n",
    "    grouped = df_users.groupby('grp')['rev'].agg(['count', 'mean', 'sum']).round(2).reset_index() \\\n",
    "        .rename(columns={'sum': 'rev_sum', 'mean': 'ARPPU', 'count': 'paying_studs'})\n",
    "    df_all = group_df.merge(grouped, how='left', on='grp')\n",
    "    df_all['ARPU'] = round(df_all.rev_sum / df_all.active_studs, 2)\n",
    "    df_all['CR'] = ((df_all.paying_studs / df_all.active_studs) * 100).round(2)\n",
    "    return df_all\n",
    "\n",
    "metrics = metric_task3(groups, groups_add, active_studs, checks)\n",
    "metrics"
   ]
  },
  {
   "cell_type": "code",
   "execution_count": 75,
   "metadata": {},
   "outputs": [
    {
     "data": {
      "image/png": "[encoded data removed]",
      "text/plain": [
       "<Figure size 1080x504 with 4 Axes>"
      ]
     },
     "metadata": {},
     "output_type": "display_data"
    }
   ],
   "source": [
    " def plot_show(metrics):\n",
    "    figure, axes = plt.subplots(2, 2, sharex=True, figsize=(15, 7))\n",
    "    figure.suptitle('Метрики', fontsize=20)\n",
    "    sns.barplot(ax=axes[0, 0], x=metrics.ARPU, y='ARPU', data=metrics, hue='grp')\n",
    "    axes[0, 0].set(title='ARPU')\n",
    "    axes[0, 0].set(xlabel='')\n",
    "    axes[0, 0].set(ylabel='')\n",
    "\n",
    "    sns.barplot(ax=axes[0, 1], x=metrics.ARPPU, y='ARPPU', data=metrics, hue='grp')\n",
    "    axes[0, 1].set(title='ARPPU')\n",
    "    axes[0, 1].set(xlabel='')\n",
    "    axes[0, 1].set(ylabel='')\n",
    "\n",
    "    sns.barplot(ax=axes[1, 0], x=metrics.CR, y='CR', data=metrics, hue='grp')\n",
    "    axes[1, 0].set(title='CR')\n",
    "    axes[1, 0].set(xlabel='')\n",
    "    axes[1, 0].set(ylabel='')\n",
    "\n",
    "    sns.barplot(ax=axes[1, 1], x=metrics.rev_sum, y='rev_sum', data=metrics, hue='grp')\n",
    "    axes[1, 1].set(title='Сумма оплаты')\n",
    "    axes[1, 1].set(xlabel='')\n",
    "    axes[1, 1].set(ylabel='')\n",
    "\n",
    "    sns.despine()\n",
    "    return plt.show()\n",
    "\n",
    "plot_show(metrics)"
   ]
  },
  {
   "cell_type": "code",
   "execution_count": null,
   "metadata": {},
   "outputs": [],
   "source": []
  }
 ],
 "metadata": {
  "kernelspec": {
   "display_name": "Python 3",
   "language": "python",
   "name": "python3"
  },
  "language_info": {
   "codemirror_mode": {
    "name": "ipython",
    "version": 3
   },
   "file_extension": ".py",
   "mimetype": "text/x-python",
   "name": "python",
   "nbconvert_exporter": "python",
   "pygments_lexer": "ipython3",
   "version": "3.7.3"
  }
 },
 "nbformat": 4,
 "nbformat_minor": 4
}
